{
 "cells": [
  {
   "cell_type": "markdown",
   "id": "56b53348-6f8d-4f1d-8f1f-9631ed644adc",
   "metadata": {},
   "source": [
    "### Exercise 4.1\n",
    "Choose a number between 1 and 10 and assign it to the variable `secret`. Then, select another number between 1 and 10 and assign it to the variable `guess`. Next, write the conditional tests (`if`, `else`, and `elif`) to print the string \"too low\" if `guess` is less than `secret`, \"too high\" if greater than `secret`, and \"just right\" if equal to `secret`."
   ]
  },
  {
   "cell_type": "code",
   "execution_count": 1,
   "id": "69394ac1-7f67-4c57-b0cd-e05f91492975",
   "metadata": {},
   "outputs": [
    {
     "name": "stdout",
     "output_type": "stream",
     "text": [
      "too low\n"
     ]
    }
   ],
   "source": [
    "# Exercise 4.1\n",
    "secret = 7\n",
    "guess = 5\n",
    "\n",
    "if guess < secret:\n",
    "    print(\"too low\")\n",
    "elif guess > secret:\n",
    "    print(\"too high\")\n",
    "else:\n",
    "    print(\"just right\")"
   ]
  },
  {
   "cell_type": "markdown",
   "id": "212a6356-da6a-4008-b396-acc62a5464c6",
   "metadata": {},
   "source": [
    "### Exercise 4.2\n",
    "Assign `True` or `False` to the variables `small` and `green`. Write some `if/else` statements to print which of these matches the choices: cherry, pea, watermelon, pumpkin."
   ]
  },
  {
   "cell_type": "code",
   "execution_count": 3,
   "id": "fa658cde-ecf8-4375-ab55-3afbd2ac531e",
   "metadata": {},
   "outputs": [
    {
     "name": "stdout",
     "output_type": "stream",
     "text": [
      "cherry\n"
     ]
    }
   ],
   "source": [
    "# Exercise 4.2\n",
    "small = True\n",
    "green = False\n",
    "\n",
    "if small and green:\n",
    "    print(\"pea\")\n",
    "elif small and not green:\n",
    "    print(\"cherry\")\n",
    "elif not small and green:\n",
    "    print(\"watermelon\")\n",
    "else:\n",
    "    print(\"pumpkin\")"
   ]
  },
  {
   "cell_type": "markdown",
   "id": "5d183efc-330a-4976-85a3-439a11a79efb",
   "metadata": {},
   "source": [
    "### Exercise 6.1\n",
    "Use a `for` loop to print the values of the list `[3, 2, 1, 0]`."
   ]
  },
  {
   "cell_type": "code",
   "execution_count": 5,
   "id": "13676238-41a4-4064-b3d4-ebdcb2d62635",
   "metadata": {},
   "outputs": [
    {
     "name": "stdout",
     "output_type": "stream",
     "text": [
      "3\n",
      "2\n",
      "1\n",
      "0\n"
     ]
    }
   ],
   "source": [
    "# Exercise 6.1\n",
    "for value in [3, 2, 1, 0]:\n",
    "    print(value)\n"
   ]
  },
  {
   "cell_type": "markdown",
   "id": "495ed307-9aa6-48f7-92bc-0ed7695e6ff3",
   "metadata": {},
   "source": [
    "### Exercise 6.2\n",
    "Assign the value `7` to the variable `guess_me`, and the value `1` to the variable `number`. Write a `while` loop that compares `number` with `guess_me`. Print \"too low\" if `number` is less than `guess_me`. If `number` equals `guess_me`, print \"found it!\" and then exit the loop. If `number` is greater than `guess_me`, print \"oops\" and then exit the loop. Increment `number` at the end of the loop."
   ]
  },
  {
   "cell_type": "code",
   "execution_count": 7,
   "id": "b9ad8199-6528-46f6-a5a7-1561a88cb85b",
   "metadata": {},
   "outputs": [
    {
     "name": "stdout",
     "output_type": "stream",
     "text": [
      "too low\n",
      "too low\n",
      "too low\n",
      "too low\n",
      "too low\n",
      "too low\n",
      "found it!\n"
     ]
    }
   ],
   "source": [
    "# Exercise 6.2\n",
    "guess_me = 7\n",
    "number = 1\n",
    "\n",
    "while True:\n",
    "    if number < guess_me:\n",
    "        print(\"too low\")\n",
    "    elif number == guess_me:\n",
    "        print(\"found it!\")\n",
    "        break\n",
    "    else:\n",
    "        print(\"oops\")\n",
    "        break\n",
    "    number += 1"
   ]
  },
  {
   "cell_type": "markdown",
   "id": "016bea5b-fad5-4f98-a91a-948125c73668",
   "metadata": {},
   "source": [
    "### Exercise 6.3\n",
    "Assign the value `5` to the variable `guess_me`. Use a `for` loop to iterate a variable called `number` over `range(10)`. If `number` is less than `guess_me`, print \"too low\". If it equals `guess_me`, print \"found it!\" and then break out of the loop. If `number` is greater than `guess_me`, print \"oops\" and then exit the loop."
   ]
  },
  {
   "cell_type": "code",
   "execution_count": 9,
   "id": "d4f57f56-3b84-4734-a90a-3ac14ab1238f",
   "metadata": {},
   "outputs": [
    {
     "name": "stdout",
     "output_type": "stream",
     "text": [
      "too low\n",
      "too low\n",
      "too low\n",
      "too low\n",
      "too low\n",
      "found it!\n"
     ]
    }
   ],
   "source": [
    "# Exercise 6.3\n",
    "guess_me = 5\n",
    "\n",
    "for number in range(10):\n",
    "    if number < guess_me:\n",
    "        print(\"too low\")\n",
    "    elif number == guess_me:\n",
    "        print(\"found it!\")\n",
    "        break\n",
    "    else:\n",
    "        print(\"oops\")\n",
    "        break"
   ]
  },
  {
   "cell_type": "markdown",
   "id": "982698c4-3b8d-4761-91e3-dcffde53e9c6",
   "metadata": {},
   "source": []
  }
 ],
 "metadata": {
  "kernelspec": {
   "display_name": "Python 3 (ipykernel)",
   "language": "python",
   "name": "python3"
  },
  "language_info": {
   "codemirror_mode": {
    "name": "ipython",
    "version": 3
   },
   "file_extension": ".py",
   "mimetype": "text/x-python",
   "name": "python",
   "nbconvert_exporter": "python",
   "pygments_lexer": "ipython3",
   "version": "3.12.7"
  }
 },
 "nbformat": 4,
 "nbformat_minor": 5
}
